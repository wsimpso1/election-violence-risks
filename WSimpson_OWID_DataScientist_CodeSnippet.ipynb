{
 "cells": [
  {
   "cell_type": "markdown",
   "metadata": {
    "id": "mGhu2E_7sdAm"
   },
   "source": [
    "# Historical Characteristics of Electoral Violence\n",
    "*** \n",
    "#### Purpose:\n",
    "This code aims to utilize machine learning to model characteristics of elections that correlate to election-related violence. \n",
    "\n",
    "#### Methdology:\n",
    "Characteristics of global elections in history are used as independent input variables to train a Random Forest model to predict the level of election-related fatalities recorded in the one year preceeding the date of a given election.\n",
    "\n",
    "This analysis measures electoral violence by number of fatalities and classifies the level of electoral violence during an election cycle as one of three categories:\n",
    "1. Non-fatal: no election-related fatalities recorded\n",
    "2. Low-fatality: 1-3 election-related fatalities recorded\n",
    "3. Mass-fatality: 4 or more election-related fatalities recorded\n",
    "\n",
    "The value of the machine learning model is extract feature importances as a method to identify which characteristics of elections are most informative in assessing the level of violence during an election period. Permutation importance is used to provide of list of historical characteristics of elections that are most influential on the ML model's ability to predict the level of election violence.\n",
    "\n",
    "#### Data Sources:\n",
    "1. **Dataset of National Elections Across Democracy and Autocracy (NELDA)**\n",
    "    - A historical dataset of the national elections for all independent countries from 1945-2020\n",
    "    - Features Types: \n",
    "        - Election history of the country\n",
    "        - Structure and quality of management of the election in question (e.g., whether opposition is allowed, delayed vote counting) \n",
    "        - Public perceptions of election fairness\n",
    "        - The occurrence of protests\n",
    "        - Economic and political state of the country (e.g., whether the country receives economic aid, impact of the election on US/international relations)\n",
    "        - The presence of international monitors\n",
    "    - Source: https://www.jstor.org/stable/23260172 or https://nelda.co/\n",
    "    \n",
    "    \n",
    "2. **The Deadly Electoral Conflict Dataset (DECO)**\n",
    "    - A georeferenced events dataset by the Uppsala Conflict Data Program (UCDP) that records incidents of electoral violence between 1989-2017 in which at least one election-related fatality occurred\n",
    "    - Source: https://journals.sagepub.com/doi/full/10.1177/00220027211021620 or https://ucdp.uu.se/downloads/index.html#deco"
   ]
  },
  {
   "cell_type": "code",
   "execution_count": null,
   "metadata": {
    "id": "t1CjkYMcsdAr"
   },
   "outputs": [],
   "source": [
    "# import libraries\n",
    "\n",
    "import os\n",
    "import pandas as pd\n",
    "pd.set_option('display.max_columns',100)\n",
    "from datetime import datetime, timedelta\n",
    "import re\n",
    "import numpy as np\n",
    "import matplotlib.pyplot as plt\n",
    "import seaborn as sns\n",
    "import plotly.express as px\n",
    "from sklearn.inspection import permutation_importance\n",
    "from sklearn.model_selection import train_test_split\n",
    "from sklearn.ensemble import RandomForestClassifier\n",
    "from imblearn.under_sampling import RandomUnderSampler\n",
    "from imblearn.over_sampling import RandomOverSampler\n",
    "from sklearn.metrics import confusion_matrix, ConfusionMatrixDisplay, classification_report\n",
    "from sklearn.model_selection import GridSearchCV"
   ]
  },
  {
   "cell_type": "markdown",
   "metadata": {},
   "source": [
    "# 1. Data Loading"
   ]
  },
  {
   "cell_type": "code",
   "execution_count": null,
   "metadata": {
    "id": "N65Cq6B-sdAs"
   },
   "outputs": [],
   "source": [
    "# load data\n",
    "\n",
    "# data directory\n",
    "data_dir = 'https://raw.githubusercontent.com/wsimpso1/election-violence-risks/main/data'\n",
    "\n",
    "deco = pd.read_csv(data_dir+'/DECO_v.1.0.csv', parse_dates=['date_start','date_end'])\n",
    "nelda = pd.read_csv(data_dir+'/NELDA.csv', encoding='latin-1')\n",
    "nelda_look_up = pd.read_csv(data_dir+'/nelda_look_up.csv', encoding='latin-1')\n"
   ]
  },
  {
   "cell_type": "code",
   "execution_count": null,
   "metadata": {
    "colab": {
     "base_uri": "https://localhost:8080/"
    },
    "id": "TN1CekA9sdAt",
    "outputId": "14a41034-7819-4223-e68c-2974a48cf120",
    "scrolled": true
   },
   "outputs": [],
   "source": [
    "# inspect original data shapes prior to processing\n",
    "\n",
    "print('DECO:', deco.shape)\n",
    "print('NELDA:', nelda.shape)"
   ]
  },
  {
   "cell_type": "code",
   "execution_count": null,
   "metadata": {},
   "outputs": [],
   "source": [
    "# datetime conversion\n",
    "\n",
    "def custom_nelda_date_format(year, mmdd):\n",
    "    '''\n",
    "    parse year and month-day columns for NELDA data\n",
    "    \n",
    "    Parameters:\n",
    "    ———————————\n",
    "    year: int\n",
    "    mmdd: int\n",
    "        month (1-12) and day (01-31)\n",
    "    \n",
    "    Returns:\n",
    "    ————————\n",
    "    combined year-month-day date format\n",
    "    '''\n",
    "    try:\n",
    "        date_string = f'{year}{mmdd}'\n",
    "        return datetime.strptime(date_string, '%Y%m%d').date()\n",
    "    # impute date for missing data \n",
    "    except:\n",
    "        return datetime.strptime(f'{year}0101', '%Y%m%d').date()\n",
    "        \n",
    "nelda['date'] = pd.to_datetime([custom_nelda_date_format(year,date) for year, date in zip(nelda.year,nelda.mmdd)])"
   ]
  },
  {
   "cell_type": "markdown",
   "metadata": {
    "id": "xZ5fZt_gsdAu"
   },
   "source": [
    "# 2. Exploratory Data Analysis (EDA)"
   ]
  },
  {
   "cell_type": "markdown",
   "metadata": {
    "id": "_AV1DoD1sdAv"
   },
   "source": [
    "### 2.1 EDA of the Dataset of National Elections Across Democracy and Autocracy (NELDA)"
   ]
  },
  {
   "cell_type": "code",
   "execution_count": null,
   "metadata": {
    "colab": {
     "base_uri": "https://localhost:8080/",
     "height": 281
    },
    "id": "Ygw8vnS8sdAv",
    "outputId": "aacc5c97-2896-4194-ee53-61a44c8c91bc"
   },
   "outputs": [],
   "source": [
    "# types of elections recorded in dataset\n",
    "\n",
    "election_types = nelda.types.value_counts()\n",
    "sns.barplot(x=election_types.index, \n",
    "            y=election_types.values)\n",
    "plt.title('TYPES OF NATIONAL ELECTIONS MEASURED BY NELDA')\n",
    "plt.show()"
   ]
  },
  {
   "cell_type": "code",
   "execution_count": null,
   "metadata": {
    "colab": {
     "base_uri": "https://localhost:8080/",
     "height": 542
    },
    "id": "VtuCzakusdAw",
    "outputId": "cc08da68-1749-4ae9-a381-b2be1e1a5a2f",
    "scrolled": false
   },
   "outputs": [],
   "source": [
    "# count of national elections measured in NELDA\n",
    "\n",
    "# group elections by country\n",
    "nelda_count = nelda.groupby(['country']).count()['electionid'].copy().reset_index()\n",
    "nelda_count = nelda_count.rename(columns={'electionid':'Count of Elections'})\n",
    "\n",
    "# plot\n",
    "fig = px.choropleth(nelda_count,\n",
    "                    locations='country', \n",
    "                    locationmode=\"country names\",\n",
    "                    projection='natural earth',\n",
    "                    scope=\"world\",\n",
    "                    color='Count of Elections',\n",
    "                    color_continuous_scale=px.colors.sequential.PuBu, \n",
    "                    title='National Elections Measured in NELDA (1945-2020)'\n",
    "                    )\n",
    "\n",
    "# display plot\n",
    "fig.show('png')"
   ]
  },
  {
   "cell_type": "code",
   "execution_count": null,
   "metadata": {
    "colab": {
     "base_uri": "https://localhost:8080/",
     "height": 295
    },
    "id": "OC185S_HsdAw",
    "outputId": "70367b55-dc42-4a90-ae93-5327e3508d8b"
   },
   "outputs": [],
   "source": [
    "# count of elections over time\n",
    "\n",
    "# group elections by year and type \n",
    "nelda_year = nelda.groupby(['year','types']).count()['electionid'].reset_index()\n",
    "nelda_year = nelda_year.rename(columns={'electionid':'Count of Elections'})\n",
    "\n",
    "\n",
    "# plot count of election types over time\n",
    "sns.lineplot(x=nelda_year.year,\n",
    "             y=nelda_year['Count of Elections'],\n",
    "            hue=nelda_year.types)\n",
    "plt.title('Elections Have Increased Over Time')\n",
    "plt.show()"
   ]
  },
  {
   "cell_type": "markdown",
   "metadata": {
    "id": "118kmBU8sdAx"
   },
   "source": [
    "### 2.2 EDA of the Dataset of Electoral Conflict (DECO)"
   ]
  },
  {
   "cell_type": "code",
   "execution_count": null,
   "metadata": {
    "colab": {
     "base_uri": "https://localhost:8080/",
     "height": 542
    },
    "id": "jiirmRtlsdAx",
    "outputId": "10450d21-3db5-4fb9-9616-eebdf6acdfde",
    "scrolled": false
   },
   "outputs": [],
   "source": [
    "# count of election related fatalities in DECO\n",
    "\n",
    "# group by country and sum number of election-related fatalities\n",
    "deco_count = deco.groupby(['country']).sum()['best'].copy().reset_index()\n",
    "deco_count = deco_count.rename(columns={'best':'Count of Fatalities'})\n",
    "\n",
    "# plot map\n",
    "fig = px.choropleth(deco_count,\n",
    "                    locations='country', \n",
    "                    locationmode=\"country names\",\n",
    "                    projection='natural earth',\n",
    "                    scope=\"world\",\n",
    "                    color='Count of Fatalities',\n",
    "                    color_continuous_scale=px.colors.sequential.OrRd, \n",
    "                    title='Election-related Fatalities based on Events Coded in DECO (1989-2017)'\n",
    "                    )\n",
    "fig.show('png')"
   ]
  },
  {
   "cell_type": "code",
   "execution_count": null,
   "metadata": {
    "colab": {
     "base_uri": "https://localhost:8080/",
     "height": 617
    },
    "id": "zX_3ef5MsdAy",
    "outputId": "b7cb3c59-3439-43d3-c621-f6903676bfe0"
   },
   "outputs": [],
   "source": [
    "# examine density of election violence incidents in example country: KENYA\n",
    "\n",
    "# select electoral violence data related to Kenya\n",
    "deco_kenya = deco.loc[deco.country == 'Kenya'].copy()\n",
    "\n",
    "# plot heatmap\n",
    "fig = px.density_mapbox(deco_kenya, lat='latitude', lon='longitude', radius=10,\n",
    "                        center=dict(lat=0.1, lon=38), zoom=5,\n",
    "                        mapbox_style=\"stamen-terrain\",\n",
    "                        width=600, height=600)\n",
    "fig.show('png')"
   ]
  },
  {
   "cell_type": "code",
   "execution_count": null,
   "metadata": {
    "colab": {
     "base_uri": "https://localhost:8080/",
     "height": 542
    },
    "id": "w8ICxzjUsdAy",
    "outputId": "44ee86ac-3055-4272-a7ce-721f93e265cc",
    "scrolled": false
   },
   "outputs": [],
   "source": [
    "# election violence over time\n",
    "\n",
    "# group data of election fatalities by year\n",
    "deco_year = deco.groupby(['year']).count()['id'].reset_index()\n",
    "\n",
    "# create scatterplot and draw linear regression trendline\n",
    "fig = px.scatter(deco_year,\n",
    "          x='year',\n",
    "          y='id',\n",
    "          trendline='ols',\n",
    "          title='GLOBAL ELECTION VIOLENCE IS INCREASING',\n",
    "          labels={'id':'Number of Fatal Events', 'year':'Year'})\n",
    "\n",
    "# display plot\n",
    "fig.show('svg')"
   ]
  },
  {
   "cell_type": "markdown",
   "metadata": {
    "id": "cAEvJ119sdAz"
   },
   "source": [
    "# 3. Data Cleaning and Preprocessing"
   ]
  },
  {
   "cell_type": "markdown",
   "metadata": {
    "id": "yFaFtPqLsdAz"
   },
   "source": [
    "### 3.1 Clean and Wrangle NELDA Data of Global Historical Elections"
   ]
  },
  {
   "cell_type": "code",
   "execution_count": null,
   "metadata": {
    "id": "A92fdgNesdA0"
   },
   "outputs": [],
   "source": [
    "# clean NELDA data of historical elections for modeling\n",
    "\n",
    "def process_nelda(nelda_data):\n",
    "    '''\n",
    "    data wrangling for NELDA data\n",
    "    - filters relevant data to allow merging with DECO data\n",
    "    - fill NA and reformat string features to numeric\n",
    "    \n",
    "    Parameters:\n",
    "    ———————————\n",
    "    nelda_data: pandas dataframe\n",
    "        original NELDA data\n",
    "        \n",
    "    Returns:\n",
    "    ————————\n",
    "    nelda_data: pandas dataframe\n",
    "        processed dataframe\n",
    "    '''    \n",
    "    # select only years covered by both datasets (1989-2017)\n",
    "    nelda_data = nelda_data.loc[(nelda_data.year > 1988) & (nelda_data.year < 2018)]\n",
    "    # select only countries that appear in both datasets\n",
    "    deco_country_ids = list(deco.country_id.unique())\n",
    "    nelda_data = nelda_data.loc[nelda_data.ccode.isin(deco_country_ids)] \n",
    "    \n",
    "    # remove notes column\n",
    "    nelda_data = nelda_data[[col for col in nelda_data.columns if not re.match(\".+notes$\", col)]]\n",
    "    \n",
    "    # exclude free text features of names and location\n",
    "    free_txt_cols = ['nelda43', 'nelda44', 'nelda54']\n",
    "    nelda_data = nelda_data[[col for col in nelda_data.columns if col not in free_txt_cols]]\n",
    "    \n",
    "    # fill NaN as 'N/A' for Nelda columns\n",
    "    nelda_cols = [col[0] for col in [re.findall(r'nelda\\d+$', col) for col in nelda_data.columns] if len(col)>=1]\n",
    "    for col in nelda_cols:\n",
    "        nelda_data[col] = nelda_data[col].fillna('n/a')\n",
    "    \n",
    "    # convert string features to numeric\n",
    "    def str_to_num(string):\n",
    "        if string == 'yes':\n",
    "            return 2\n",
    "        elif string == 'no':\n",
    "            return 1\n",
    "        elif string == 'n/a': \n",
    "            return 0\n",
    "        else:  # string == 'unclear'\n",
    "            return -1\n",
    "        \n",
    "    # apply string-to-numeric function    \n",
    "    for col in nelda_cols:\n",
    "        nelda_data[col] = [str_to_num(val) for val in nelda_data[col]]\n",
    "    \n",
    "    return nelda_data.reset_index(drop=True)"
   ]
  },
  {
   "cell_type": "code",
   "execution_count": null,
   "metadata": {
    "id": "FsNMT3S4sdA0"
   },
   "outputs": [],
   "source": [
    "# apply cleaning function\n",
    "\n",
    "nelda_clean = process_nelda(nelda)"
   ]
  },
  {
   "cell_type": "code",
   "execution_count": null,
   "metadata": {
    "colab": {
     "base_uri": "https://localhost:8080/",
     "height": 870
    },
    "id": "NRW43B8AsdA1",
    "outputId": "3514dd1b-fd46-448b-dbf9-8a3bd0e9c4fe",
    "scrolled": false
   },
   "outputs": [],
   "source": [
    "# view cleaned data\n",
    "\n",
    "nelda_clean.head()"
   ]
  },
  {
   "cell_type": "markdown",
   "metadata": {},
   "source": [
    "### 3.2 Clean and Wrangle DECO Data of Electoral Violence "
   ]
  },
  {
   "cell_type": "code",
   "execution_count": null,
   "metadata": {
    "id": "9PObBDz_sdA5"
   },
   "outputs": [],
   "source": [
    "# clean data of election violence (DECO) for modeling\n",
    "\n",
    "def process_deco(deco_data):\n",
    "    '''\n",
    "    data wrangling for DECO data\n",
    "    - filter columns\n",
    "    - aggregate election violence data by country and date\n",
    "    \n",
    "    Parameters:\n",
    "    ———————————\n",
    "    deco_data: pandas dataframe\n",
    "        original DECO data\n",
    "        \n",
    "    Returns:\n",
    "    ————————\n",
    "    deco_data: pandas dataframe\n",
    "        processed and aggregated data\n",
    "    '''\n",
    "    # select relevant columns\n",
    "    deco_data = deco_data[['country_id', 'best', 'date_end']]\n",
    "    # rename columns\n",
    "    deco_data = deco_data.rename(columns={'best':'num_fatalities', 'date_end':'date'})\n",
    "    # sum number of fatalities by country and date\n",
    "    deco_data = deco_data.groupby(by=['country_id', 'date']).sum()\n",
    "    \n",
    "    return deco_data.reset_index()"
   ]
  },
  {
   "cell_type": "code",
   "execution_count": null,
   "metadata": {
    "id": "k3a07JvrsdA8"
   },
   "outputs": [],
   "source": [
    "# apply cleaning function\n",
    "\n",
    "deco_agg = process_deco(deco)"
   ]
  },
  {
   "cell_type": "code",
   "execution_count": null,
   "metadata": {
    "colab": {
     "base_uri": "https://localhost:8080/",
     "height": 424
    },
    "id": "DfvW6EExsdA-",
    "outputId": "a8e2afd7-b9e0-4546-8941-95336d6abfd8"
   },
   "outputs": [],
   "source": [
    "# view cleaned data\n",
    "\n",
    "deco_agg.head()"
   ]
  },
  {
   "cell_type": "markdown",
   "metadata": {
    "id": "43c2iK3usdA_"
   },
   "source": [
    "### 3.2 Merge Preprocessed and Aggregated NELDA and DECO datasets"
   ]
  },
  {
   "cell_type": "code",
   "execution_count": null,
   "metadata": {},
   "outputs": [],
   "source": [
    "def fatalities_per_election(election_date, country_id):\n",
    "    '''\n",
    "    compute the total number of election related fatalities in 1 year leading up to election date\n",
    "    \n",
    "    Parameters:\n",
    "    ———————————\n",
    "    election_date: datetime object\n",
    "        date of election\n",
    "    country_id: int\n",
    "        ISO country code\n",
    "    \n",
    "    Returns:\n",
    "    –———————\n",
    "    sum_election_fatalities: int\n",
    "        aggregated number of election-related fatalities in x country 1 year leading up to election\n",
    "    '''\n",
    "    deco_agg_country = deco_agg.loc[deco_agg.country_id == country_id].copy()\n",
    "    start_date = election_date - timedelta(days=365)\n",
    "    deco_agg_country_1_year = deco_agg_country.loc[(deco_agg_country.date >= start_date) & \n",
    "                                                   (deco_agg_country.date <= election_date)]\n",
    "    sum_election_fatalities = deco_agg_country_1_year.num_fatalities.sum()\n",
    "    return sum_election_fatalities\n",
    "\n",
    "deco_election_fatalities = [fatalities_per_election(date, country) for date, country in zip(nelda_clean.date, nelda_clean.ccode)]\n"
   ]
  },
  {
   "cell_type": "code",
   "execution_count": null,
   "metadata": {},
   "outputs": [],
   "source": [
    "# create final combined dataframe\n",
    "\n",
    "nelda_deco = nelda_clean.copy()\n",
    "nelda_deco['election_fatalities'] = deco_election_fatalities"
   ]
  },
  {
   "cell_type": "code",
   "execution_count": null,
   "metadata": {
    "id": "5tef2TjesdBA"
   },
   "outputs": [],
   "source": [
    "# Drop unecessary columns \n",
    "\n",
    "drop_cols = ['stateid','ccode', 'country', 'electionid', 'year', 'mmdd', 'types', 'notes', 'date']\n",
    "nelda_deco = nelda_deco.drop(drop_cols, axis=1)"
   ]
  },
  {
   "cell_type": "code",
   "execution_count": null,
   "metadata": {
    "colab": {
     "base_uri": "https://localhost:8080/",
     "height": 488
    },
    "id": "s_ljbgSQsdBA",
    "outputId": "7c88e787-ac76-48d9-9a7d-f0524141983a",
    "scrolled": false
   },
   "outputs": [],
   "source": [
    "# view combined data that will be used in modeling\n",
    "\n",
    "# all NELDA variables will be used as independent variables to predict the dependent variable election_fatalities\n",
    "# which is the best estimate of election related fatalities for that country-year.\n",
    "\n",
    "nelda_deco.reset_index(inplace=True, drop=True)\n",
    "nelda_deco.head()"
   ]
  },
  {
   "cell_type": "code",
   "execution_count": null,
   "metadata": {
    "colab": {
     "base_uri": "https://localhost:8080/",
     "height": 280
    },
    "id": "0sjLwrgCsdBB",
    "outputId": "8f39d2f8-698a-4872-accc-26e3f63fccb8",
    "scrolled": true
   },
   "outputs": [],
   "source": [
    "# visualization of fatalities distribution\n",
    "\n",
    "sns.boxplot(x = nelda_deco.election_fatalities)\n",
    "plt.show()"
   ]
  },
  {
   "cell_type": "markdown",
   "metadata": {
    "id": "_l7lBcQlsdBB"
   },
   "source": [
    "### 3.3 Examine Correlations for Possible Multicolinearities"
   ]
  },
  {
   "cell_type": "code",
   "execution_count": null,
   "metadata": {
    "colab": {
     "base_uri": "https://localhost:8080/",
     "height": 874
    },
    "id": "oW5o4uBKsdBF",
    "outputId": "f75618af-c777-4eeb-a128-cca229f75cb2",
    "scrolled": false
   },
   "outputs": [],
   "source": [
    "# visualize correlation matrix of NELDA risk factors\n",
    "\n",
    "# calculate correlations\n",
    "corr_matrix = nelda_deco.corr().abs()\n",
    "mask = np.triu(np.ones_like(corr_matrix))\n",
    "\n",
    "# examine correlations \n",
    "plt.figure(figsize=(18,14))\n",
    "sns.heatmap(corr_matrix[corr_matrix>=.85], cmap='YlGnBu', mask=mask)\n",
    "plt.show()"
   ]
  },
  {
   "cell_type": "markdown",
   "metadata": {
    "id": "kEpO5wWOsdBF"
   },
   "source": [
    "### 3.4. Remove Multicolinearity"
   ]
  },
  {
   "cell_type": "code",
   "execution_count": null,
   "metadata": {
    "id": "meHecva0sdBG"
   },
   "outputs": [],
   "source": [
    "# of the highly correlated features keep those that are most potentially informative\n",
    "\n",
    "nelda_deco = nelda_deco.drop(columns=['nelda8','nelda21', 'nelda29',\n",
    "                                                'nelda36', 'nelda37',\n",
    "                                                'nelda40', 'nelda41'])"
   ]
  },
  {
   "cell_type": "markdown",
   "metadata": {
    "id": "5hRtZoQpsdBG"
   },
   "source": [
    "# 4. Model Building"
   ]
  },
  {
   "cell_type": "markdown",
   "metadata": {
    "id": "qLGr1XKtsdBG"
   },
   "source": [
    "### 4.1 Define features and target variable "
   ]
  },
  {
   "cell_type": "code",
   "execution_count": null,
   "metadata": {
    "id": "mOTBQHfxsdBG"
   },
   "outputs": [],
   "source": [
    "# convert target variable of fatalities to a categorical variable\n",
    "\n",
    "def to_categorial(val):\n",
    "    '''\n",
    "    Discretizes numerical value of fatalities in a country-year\n",
    "    \n",
    "    Categories are defined according to a US Dept of Justice definition that an event\n",
    "    with 4 or more fatalities constitutes mass murder\n",
    "    https://www.ojp.gov/ncjrs/virtual-library/abstracts/serial-murder-multi-disciplinary-perspectives-investigators \n",
    "    \n",
    "    Parameters:\n",
    "    ———————————\n",
    "    val: int\n",
    "        number of fatalities\n",
    "    \n",
    "    Returns:\n",
    "    ————————\n",
    "    str: category of level of fatality\n",
    "    '''\n",
    "    if val == 0:\n",
    "        return 'non-fatal'\n",
    "    if 1 < val <= 3:\n",
    "        return 'low fatality'\n",
    "    else:\n",
    "        return 'mass fatality'"
   ]
  },
  {
   "cell_type": "code",
   "execution_count": null,
   "metadata": {
    "id": "fDZ7KRnMsdBG"
   },
   "outputs": [],
   "source": [
    "# apply categorical conversion function\n",
    "\n",
    "nelda_deco['election_fatalities'] = [to_categorial(row) for row in nelda_deco.election_fatalities]"
   ]
  },
  {
   "cell_type": "code",
   "execution_count": null,
   "metadata": {
    "colab": {
     "base_uri": "https://localhost:8080/",
     "height": 268
    },
    "id": "VxGMo2WXsdBH",
    "outputId": "3920fa9e-2371-4126-df2e-491efbb1dc13"
   },
   "outputs": [],
   "source": [
    "# view the distribution of three classes of election violence intensity\n",
    "\n",
    "vl_ct = nelda_deco.election_fatalities.value_counts()\n",
    "sns.barplot(x=list(vl_ct.keys()),\n",
    "           y=vl_ct.values)\n",
    "plt.show()"
   ]
  },
  {
   "cell_type": "code",
   "execution_count": null,
   "metadata": {
    "id": "TiFEKnY-sdBH"
   },
   "outputs": [],
   "source": [
    "# define target variable y (election fatalities) and features X (risk factors) \n",
    "\n",
    "y = nelda_deco.election_fatalities\n",
    "X = nelda_deco.drop(['election_fatalities'], axis=1)"
   ]
  },
  {
   "cell_type": "markdown",
   "metadata": {},
   "source": [
    "Drop columns that contain information about election fatalities the model may cheat on\n",
    "- nelda 33 explicitly codes for the presence of fatalities\n",
    "- nelda 31 codes for the use of violence by the government against citizens"
   ]
  },
  {
   "cell_type": "code",
   "execution_count": null,
   "metadata": {
    "id": "H7fYWNrksdBH"
   },
   "outputs": [],
   "source": [
    "# drop columns as described above\n",
    "\n",
    "X = X.drop(columns=['nelda33', 'nelda31'])"
   ]
  },
  {
   "cell_type": "code",
   "execution_count": null,
   "metadata": {
    "id": "F4IBc9nIsdBH"
   },
   "outputs": [],
   "source": [
    "# transform all categorical NELDA features to one-hot encoding\n",
    "\n",
    "# Creates list of all column headers\n",
    "all_columns = list(X)\n",
    "# change datatype\n",
    "X[all_columns] = X[all_columns].astype(str)\n",
    "# one hot encoding\n",
    "X_one = pd.get_dummies(X)"
   ]
  },
  {
   "cell_type": "code",
   "execution_count": null,
   "metadata": {
    "colab": {
     "base_uri": "https://localhost:8080/",
     "height": 488
    },
    "id": "r54SK775sdBI",
    "outputId": "de0d77f3-f11a-450b-b77a-38fb8468324c",
    "scrolled": false
   },
   "outputs": [],
   "source": [
    "# view final transformed dataframe for modeling\n",
    "\n",
    "X_one.head()"
   ]
  },
  {
   "cell_type": "code",
   "execution_count": null,
   "metadata": {
    "id": "mAiPVzgysdBI"
   },
   "outputs": [],
   "source": [
    "# Adjust class imblance to mitigate overfitting via under/oversampling\n",
    "\n",
    "# undersample the non-fatal class\n",
    "undersample = RandomUnderSampler(sampling_strategy='majority', random_state=42)\n",
    "X_under, y_under = undersample.fit_resample(X_one, y)\n",
    "\n",
    "# oversample the other classes to eliminate class imbalance \n",
    "oversample = RandomOverSampler(sampling_strategy='all', random_state=42)\n",
    "X_over, y_over = oversample.fit_resample(X_under, y_under)"
   ]
  },
  {
   "cell_type": "code",
   "execution_count": null,
   "metadata": {
    "colab": {
     "base_uri": "https://localhost:8080/",
     "height": 265
    },
    "id": "0qJFcqtssdBI",
    "outputId": "107fb3c5-e882-48c2-a07a-7ce34519d269",
    "scrolled": true
   },
   "outputs": [],
   "source": [
    "# view rebalanced classes\n",
    "\n",
    "vl_ct = y_over.value_counts()\n",
    "sns.barplot(x=list(vl_ct.keys()),\n",
    "           y=vl_ct.values)\n",
    "plt.show()"
   ]
  },
  {
   "cell_type": "markdown",
   "metadata": {
    "id": "PxnaelRrsdBI"
   },
   "source": [
    "### 4.2 Train Test Split"
   ]
  },
  {
   "cell_type": "code",
   "execution_count": null,
   "metadata": {
    "id": "EqK9VXLPsdBI"
   },
   "outputs": [],
   "source": [
    "# split data into training and testing sets\n",
    "\n",
    "X_train, X_test, y_train, y_test = train_test_split(X_over, \n",
    "                                                    y_over, \n",
    "                                                    test_size=.2, \n",
    "                                                    random_state=42, \n",
    "                                                    stratify=y_over)"
   ]
  },
  {
   "cell_type": "markdown",
   "metadata": {
    "id": "soZFJ1q7sdBJ"
   },
   "source": [
    "### 4.3 Train Model and Search for Optimal Parameters"
   ]
  },
  {
   "cell_type": "code",
   "execution_count": null,
   "metadata": {
    "id": "sGgOptzKsdBK"
   },
   "outputs": [],
   "source": [
    "# define grid search and cross validation\n",
    "\n",
    "parameter_grid = {'n_estimators':[200, 500, 700, 1000],\n",
    "              'max_depth':[3, 4, 5], \n",
    "              'criterion': ['gini', 'entropy']}\n",
    "\n",
    "# instantiate model \n",
    "rf_model = RandomForestClassifier(random_state=42)\n",
    "rf_grid_cv = GridSearchCV(rf_model, parameter_grid, verbose=1, cv=10)"
   ]
  },
  {
   "cell_type": "code",
   "execution_count": null,
   "metadata": {
    "id": "W_97fYa0sdBK",
    "outputId": "6a871cdb-42f5-4e96-c698-2fb1935e3f99",
    "scrolled": true
   },
   "outputs": [],
   "source": [
    "# train\n",
    "\n",
    "rf_grid_cv.fit(X_train, y_train)"
   ]
  },
  {
   "cell_type": "code",
   "execution_count": null,
   "metadata": {
    "id": "HCnLcOE1sdBK",
    "outputId": "e4bfd891-af9d-4318-fc26-28587a9fe45f"
   },
   "outputs": [],
   "source": [
    "# best parameters \n",
    "\n",
    "rf_grid_cv.best_params_"
   ]
  },
  {
   "cell_type": "code",
   "execution_count": null,
   "metadata": {
    "id": "J3leY4CYsdBK"
   },
   "outputs": [],
   "source": [
    "# get predictions with best model\n",
    "\n",
    "y_pred = rf_grid_cv.predict(X_test)"
   ]
  },
  {
   "cell_type": "code",
   "execution_count": null,
   "metadata": {
    "id": "RrSLhkTWsdBL",
    "outputId": "6b745940-e1fd-4fc0-dc58-c51b684bf1be"
   },
   "outputs": [],
   "source": [
    "# training accuracy of best model\n",
    "\n",
    "print('Train Accuracy:', round(rf_grid_cv.score(X_train, y_train)*100, 2), '%')"
   ]
  },
  {
   "cell_type": "code",
   "execution_count": null,
   "metadata": {
    "id": "PggZCVGlsdBL",
    "outputId": "f8081d5c-201e-4348-b44d-2252aa9821b9"
   },
   "outputs": [],
   "source": [
    "# testing accuracy of best model\n",
    "\n",
    "print('Test Accuracy:', round(rf_grid_cv.score(X_test, y_test)*100, 2), '%')"
   ]
  },
  {
   "cell_type": "code",
   "execution_count": null,
   "metadata": {
    "id": "J-8bpwQ8sdBL",
    "outputId": "56b48be1-8d81-4fed-b448-8f9277910a19"
   },
   "outputs": [],
   "source": [
    "# granular view of model performance via confusion matrix\n",
    "\n",
    "cm = confusion_matrix(y_test, y_pred, labels=rf_grid_cv.classes_)\n",
    "disp = ConfusionMatrixDisplay(confusion_matrix=cm,\n",
    "                              display_labels=rf_grid_cv.classes_)\n",
    "disp.plot()\n",
    "plt.show()"
   ]
  },
  {
   "cell_type": "code",
   "execution_count": null,
   "metadata": {
    "id": "o1UGLnUHsdBL",
    "outputId": "d7f51cf9-d304-489d-935c-f1666c8677b6"
   },
   "outputs": [],
   "source": [
    "# examine precision and recall from classification report\n",
    "\n",
    "clf_rpt = classification_report(y_test, y_pred, target_names=rf_grid_cv.classes_)\n",
    "print(clf_rpt)"
   ]
  },
  {
   "cell_type": "markdown",
   "metadata": {
    "id": "NEaSPHiysdBM"
   },
   "source": [
    "### 4.4 Feature Importance"
   ]
  },
  {
   "cell_type": "code",
   "execution_count": null,
   "metadata": {
    "id": "5yk_szxJsdBM",
    "outputId": "851959ca-89da-4cc7-c7d1-e71d4f4dfaa5"
   },
   "outputs": [],
   "source": [
    "# determine feature importances \n",
    "\n",
    "'''\n",
    "Permutation Importance: \n",
    "A strategy to measure the decrease in model performance as the result of \n",
    "randomly shuffling one feature at a time. More important features in the model’s final decision \n",
    "cause a larger drop in performance when shuffled.\n",
    "'''\n",
    "\n",
    "r = permutation_importance(rf_grid_cv, X_test, y_test,\n",
    "                           n_repeats=5,\n",
    "                           random_state=0)\n",
    "\n",
    "perm_optimized = pd.DataFrame(columns=['AVG_Importance'], index=X_test.columns)\n",
    "perm_optimized['AVG_Importance'] = r.importances_mean\n",
    "\n",
    "perm_optimized = perm_optimized.sort_values('AVG_Importance', ascending=False)\n",
    "perm_optimized[:10]"
   ]
  },
  {
   "cell_type": "code",
   "execution_count": null,
   "metadata": {
    "id": "J59gy0GhsdBM",
    "outputId": "e345b3d4-dd4e-4647-b5ee-2da0395185ce",
    "scrolled": false
   },
   "outputs": [],
   "source": [
    "# visualize feature importances\n",
    "\n",
    "plt.figure(figsize=(10,6))\n",
    "sns.barplot(x=perm_optimized.AVG_Importance[:15],\n",
    "            y=perm_optimized.index[:15])\n",
    "\n",
    "plt.title('Feature Importances')\n",
    "plt.show()"
   ]
  },
  {
   "cell_type": "code",
   "execution_count": null,
   "metadata": {
    "id": "MKbTbAR3sdBM"
   },
   "outputs": [],
   "source": [
    "# select features with importance above threshold\n",
    "\n",
    "importance_threshold = 0.010\n",
    "perm_optimized = perm_optimized.loc[perm_optimized.AVG_Importance > importance_threshold]"
   ]
  },
  {
   "cell_type": "markdown",
   "metadata": {
    "id": "BNiegpZbsdBM"
   },
   "source": [
    "# 5. Obtain Top Risk Factors of Historical Election Violence "
   ]
  },
  {
   "cell_type": "code",
   "execution_count": null,
   "metadata": {
    "id": "DmXWoeM7sdBM",
    "outputId": "60d09812-5bf4-4e0d-b76c-edf220dfd93a",
    "scrolled": false
   },
   "outputs": [],
   "source": [
    "# get top most important risk factors to predicting historical election violence \n",
    "\n",
    "top_nelda_codes = [re.findall(r'nelda\\d{1,2}',row) for row in perm_optimized.index]\n",
    "top_nelda_codes = pd.DataFrame(np.concatenate(top_nelda_codes), columns=['nelda_feature'])\n",
    "\n",
    "top_unique_nelda_codes = list(top_nelda_codes.nelda_feature.unique())"
   ]
  },
  {
   "cell_type": "code",
   "execution_count": null,
   "metadata": {
    "id": "hJcEHdIpsdBN",
    "outputId": "2853410d-ef66-4f38-e89a-9a4b33dad05c",
    "scrolled": false
   },
   "outputs": [],
   "source": [
    "# look up text descriptions of top NELDA risk factors\n",
    "\n",
    "top_nelda_code_descriptions = nelda_look_up.loc[nelda_look_up.nelda_code.isin(top_unique_nelda_codes)][['nelda_code', 'description_clean']]\n",
    "top_nelda_code_descriptions = top_nelda_code_descriptions.rename(columns={'description_clean':'election_characteristic'})\n",
    "top_nelda_code_descriptions.reset_index(inplace=True, drop=True)\n",
    "# adjust column width to view data\n",
    "pd.options.display.max_colwidth = 200\n",
    "top_nelda_code_descriptions"
   ]
  },
  {
   "cell_type": "code",
   "execution_count": null,
   "metadata": {
    "id": "Sgx4pdB6sdBN"
   },
   "outputs": [],
   "source": [
    "# save list of characteristics of elections that correlate to election violence according to RF model\n",
    "\n",
    "top_nelda_code_descriptions.to_csv('FINAL_OUTPUT_characteristics_of_electoral_violence.csv'))\n"
   ]
  },
  {
   "cell_type": "code",
   "execution_count": null,
   "metadata": {
    "id": "pfMjXiQKsdBN"
   },
   "outputs": [],
   "source": []
  }
 ],
 "metadata": {
  "colab": {
   "provenance": []
  },
  "kernelspec": {
   "display_name": "Python 3",
   "language": "python",
   "name": "python3"
  },
  "language_info": {
   "codemirror_mode": {
    "name": "ipython",
    "version": 3
   },
   "file_extension": ".py",
   "mimetype": "text/x-python",
   "name": "python",
   "nbconvert_exporter": "python",
   "pygments_lexer": "ipython3",
   "version": "3.8.5"
  }
 },
 "nbformat": 4,
 "nbformat_minor": 1
}
